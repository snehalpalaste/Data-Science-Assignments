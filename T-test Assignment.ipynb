{
 "cells": [
  {
   "cell_type": "code",
   "execution_count": 9,
   "id": "967b35fe-d707-423e-9153-15edcbe61e9a",
   "metadata": {},
   "outputs": [],
   "source": [
    "import numpy as np\n",
    "## given values\n",
    "exchange_rate = 84  # Rupees per USD\n",
    "theor_mean = 600\n",
    "theor_cost_per_unit = 5\n",
    "sample_mean = 3050\n",
    "n = 25\n",
    "alpha = 0.05  # Significance level\n",
    "CI = 1-alpha"
   ]
  },
  {
   "cell_type": "markdown",
   "id": "3dae26ae-554e-420c-97de-69cc3bb1f067",
   "metadata": {},
   "source": [
    "## Hypothesis Statements\n",
    "Null Hypothesis : there is no significant difference between actual and theoretical mean cost.\n",
    "\n",
    "Alternet Hypothesis : there is a significant difference between actual and theoretical mean cost. "
   ]
  },
  {
   "cell_type": "code",
   "execution_count": 10,
   "id": "fe58a943-6e4e-42a1-aabc-23b7622c6036",
   "metadata": {},
   "outputs": [],
   "source": [
    "# Calculate theoretical mean cost in Rupees\n",
    "theoretical_mean_cost = (1000 * exchange_rate) + (theor_mean * theor_cost_per_unit)"
   ]
  },
  {
   "cell_type": "code",
   "execution_count": 11,
   "id": "6dd3dce8-d0f8-48df-a2a5-03488788fbf2",
   "metadata": {},
   "outputs": [
    {
     "data": {
      "text/plain": [
       "87000"
      ]
     },
     "execution_count": 11,
     "metadata": {},
     "output_type": "execute_result"
    }
   ],
   "source": [
    "theoretical_mean_cost"
   ]
  },
  {
   "cell_type": "code",
   "execution_count": 12,
   "id": "e1c2f436-e177-4fc7-8a6e-37ba35b97568",
   "metadata": {},
   "outputs": [
    {
     "data": {
      "text/plain": [
       "125"
      ]
     },
     "execution_count": 12,
     "metadata": {},
     "output_type": "execute_result"
    }
   ],
   "source": [
    "## calculate the standard deviation\n",
    "std = 25 * 5 ## assuming that standard deviation is cost per unit is 5 \n",
    "std"
   ]
  },
  {
   "cell_type": "code",
   "execution_count": 13,
   "id": "829e8ecc-8b88-41b6-b405-5abb16eb6c97",
   "metadata": {},
   "outputs": [
    {
     "data": {
      "text/plain": [
       "-3358.0"
      ]
     },
     "execution_count": 13,
     "metadata": {},
     "output_type": "execute_result"
    }
   ],
   "source": [
    "T_test = (sample_mean - theoretical_mean_cost) / (std / np.sqrt(n))\n",
    "T_test                                            "
   ]
  },
  {
   "cell_type": "code",
   "execution_count": 15,
   "id": "1b5bae99-81e8-4237-9cf1-e99eff10a4cf",
   "metadata": {},
   "outputs": [],
   "source": [
    "from scipy.stats import norm"
   ]
  },
  {
   "cell_type": "code",
   "execution_count": 17,
   "id": "9a080f75-d520-4462-81b1-8e6dc572113b",
   "metadata": {},
   "outputs": [
    {
     "data": {
      "text/plain": [
       "-0.06270677794321385"
      ]
     },
     "execution_count": 17,
     "metadata": {},
     "output_type": "execute_result"
    }
   ],
   "source": [
    "critical_val = norm.ppf(CI/2) ## two tail test\n",
    "critical_val"
   ]
  },
  {
   "cell_type": "code",
   "execution_count": 19,
   "id": "bffb5f9c-d126-490e-bbb9-77b9a413aa53",
   "metadata": {},
   "outputs": [
    {
     "name": "stdout",
     "output_type": "stream",
     "text": [
      "we failed to reject the null hypothesis\n"
     ]
    }
   ],
   "source": [
    "if T_test > critical_val :\n",
    "    print(\"we reject the null hypothesis\")\n",
    "else:\n",
    "    print(\"we failed to reject the null hypothesis\")"
   ]
  },
  {
   "cell_type": "code",
   "execution_count": null,
   "id": "9a980d56-3124-4a79-886d-5b91159e3ec1",
   "metadata": {},
   "outputs": [],
   "source": [
    "## conclusion : in this, there is a significant difference between the actual mean cost and theoretical mean cost"
   ]
  }
 ],
 "metadata": {
  "kernelspec": {
   "display_name": "Python 3 (ipykernel)",
   "language": "python",
   "name": "python3"
  },
  "language_info": {
   "codemirror_mode": {
    "name": "ipython",
    "version": 3
   },
   "file_extension": ".py",
   "mimetype": "text/x-python",
   "name": "python",
   "nbconvert_exporter": "python",
   "pygments_lexer": "ipython3",
   "version": "3.11.7"
  }
 },
 "nbformat": 4,
 "nbformat_minor": 5
}

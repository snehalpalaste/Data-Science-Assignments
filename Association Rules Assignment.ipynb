{
 "cells": [
  {
   "cell_type": "code",
   "execution_count": 1,
   "id": "894f8876-c038-499d-8cdc-85d0e38e0c93",
   "metadata": {},
   "outputs": [],
   "source": [
    "import pandas as pd\n",
    "import numpy as np\n",
    "import matplotlib.pyplot as plt \n",
    "import seaborn as sns "
   ]
  },
  {
   "cell_type": "code",
   "execution_count": 2,
   "id": "7e1fd7d9-0860-41e5-bce5-ffd7f44b76e4",
   "metadata": {
    "scrolled": true
   },
   "outputs": [
    {
     "data": {
      "text/html": [
       "<div>\n",
       "<style scoped>\n",
       "    .dataframe tbody tr th:only-of-type {\n",
       "        vertical-align: middle;\n",
       "    }\n",
       "\n",
       "    .dataframe tbody tr th {\n",
       "        vertical-align: top;\n",
       "    }\n",
       "\n",
       "    .dataframe thead th {\n",
       "        text-align: right;\n",
       "    }\n",
       "</style>\n",
       "<table border=\"1\" class=\"dataframe\">\n",
       "  <thead>\n",
       "    <tr style=\"text-align: right;\">\n",
       "      <th></th>\n",
       "      <th>0</th>\n",
       "    </tr>\n",
       "  </thead>\n",
       "  <tbody>\n",
       "    <tr>\n",
       "      <th>0</th>\n",
       "      <td>shrimp,almonds,avocado,vegetables mix,green gr...</td>\n",
       "    </tr>\n",
       "    <tr>\n",
       "      <th>1</th>\n",
       "      <td>burgers,meatballs,eggs</td>\n",
       "    </tr>\n",
       "    <tr>\n",
       "      <th>2</th>\n",
       "      <td>chutney</td>\n",
       "    </tr>\n",
       "    <tr>\n",
       "      <th>3</th>\n",
       "      <td>turkey,avocado</td>\n",
       "    </tr>\n",
       "    <tr>\n",
       "      <th>4</th>\n",
       "      <td>mineral water,milk,energy bar,whole wheat rice...</td>\n",
       "    </tr>\n",
       "  </tbody>\n",
       "</table>\n",
       "</div>"
      ],
      "text/plain": [
       "                                                   0\n",
       "0  shrimp,almonds,avocado,vegetables mix,green gr...\n",
       "1                             burgers,meatballs,eggs\n",
       "2                                            chutney\n",
       "3                                     turkey,avocado\n",
       "4  mineral water,milk,energy bar,whole wheat rice..."
      ]
     },
     "execution_count": 2,
     "metadata": {},
     "output_type": "execute_result"
    }
   ],
   "source": [
    "df = pd.read_excel('Online retail.xlsx', header=None)\n",
    "df.head()"
   ]
  },
  {
   "cell_type": "code",
   "execution_count": 3,
   "id": "cac7bdb2-d80f-4167-90f9-746b09cffdb9",
   "metadata": {},
   "outputs": [],
   "source": [
    "## rename the column \n",
    "df.columns = ['transactions']"
   ]
  },
  {
   "cell_type": "code",
   "execution_count": 4,
   "id": "f42b9152-e687-46ff-be7e-f591ee2c0be5",
   "metadata": {},
   "outputs": [],
   "source": [
    "## split the data into lists of items \n",
    "df['transactions'] = df['transactions'].apply(lambda x: x.split(','))"
   ]
  },
  {
   "cell_type": "code",
   "execution_count": 5,
   "id": "851e8ca2-3484-4de0-806b-60c118a09eae",
   "metadata": {},
   "outputs": [],
   "source": [
    "all_items = sorted(set(item for sublist in df['transactions'] for item in sublist))\n",
    "one_hot_encoded_df = pd.DataFrame([[int(item in transaction) for item in all_items] for transaction in df['transactions']], columns=all_items)"
   ]
  },
  {
   "cell_type": "markdown",
   "id": "5a2691e2-bf2a-4af7-a5b4-a439cee498e3",
   "metadata": {},
   "source": [
    "## Apriori Algorithm"
   ]
  },
  {
   "cell_type": "code",
   "execution_count": 6,
   "id": "313a6372-b818-4007-a54c-3bef575a589f",
   "metadata": {},
   "outputs": [],
   "source": [
    "from mlxtend.frequent_patterns import apriori, association_rules"
   ]
  },
  {
   "cell_type": "code",
   "execution_count": 7,
   "id": "7532c500-13d4-4541-88bb-61b351857fd8",
   "metadata": {},
   "outputs": [
    {
     "name": "stderr",
     "output_type": "stream",
     "text": [
      "C:\\Users\\SANKET-PC\\anaconda3\\Lib\\site-packages\\mlxtend\\frequent_patterns\\fpcommon.py:109: DeprecationWarning: DataFrames with non-bool types result in worse computationalperformance and their support might be discontinued in the future.Please use a DataFrame with bool type\n",
      "  warnings.warn(\n"
     ]
    }
   ],
   "source": [
    "frequent_itemsets = apriori(one_hot_encoded_df, min_support=0.01, use_colnames=True)"
   ]
  },
  {
   "cell_type": "code",
   "execution_count": 8,
   "id": "f97c8edd-006f-4839-916e-127acb0c18f2",
   "metadata": {},
   "outputs": [],
   "source": [
    "rules = association_rules(frequent_itemsets, metric=\"lift\", min_threshold=1)"
   ]
  },
  {
   "cell_type": "code",
   "execution_count": 9,
   "id": "f1169e3b-f71e-4a18-8d45-8d227dac6cd9",
   "metadata": {},
   "outputs": [
    {
     "name": "stdout",
     "output_type": "stream",
     "text": [
      "       antecedents      consequents  antecedent support  consequent support  \\\n",
      "0        (avocado)  (mineral water)            0.033329            0.238368   \n",
      "1  (mineral water)        (avocado)            0.238368            0.033329   \n",
      "2           (cake)        (burgers)            0.081056            0.087188   \n",
      "3        (burgers)           (cake)            0.087188            0.081056   \n",
      "4      (chocolate)        (burgers)            0.163845            0.087188   \n",
      "\n",
      "    support  confidence      lift  leverage  conviction  zhangs_metric  \n",
      "0  0.011598    0.348000  1.459926  0.003654    1.168147       0.325896  \n",
      "1  0.011598    0.048658  1.459926  0.003654    1.016113       0.413630  \n",
      "2  0.011465    0.141447  1.622319  0.004398    1.063198       0.417434  \n",
      "3  0.011465    0.131498  1.622319  0.004398    1.058080       0.420238  \n",
      "4  0.017064    0.104150  1.194537  0.002779    1.018933       0.194767  \n"
     ]
    }
   ],
   "source": [
    "print(rules.head())"
   ]
  },
  {
   "cell_type": "code",
   "execution_count": null,
   "id": "ce53c4b0-0139-4c31-b959-ebceafc00344",
   "metadata": {},
   "outputs": [],
   "source": []
  }
 ],
 "metadata": {
  "kernelspec": {
   "display_name": "Python 3 (ipykernel)",
   "language": "python",
   "name": "python3"
  },
  "language_info": {
   "codemirror_mode": {
    "name": "ipython",
    "version": 3
   },
   "file_extension": ".py",
   "mimetype": "text/x-python",
   "name": "python",
   "nbconvert_exporter": "python",
   "pygments_lexer": "ipython3",
   "version": "3.11.9"
  }
 },
 "nbformat": 4,
 "nbformat_minor": 5
}

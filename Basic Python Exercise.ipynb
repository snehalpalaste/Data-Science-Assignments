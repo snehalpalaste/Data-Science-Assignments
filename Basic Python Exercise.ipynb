{
 "cells": [
  {
   "cell_type": "markdown",
   "id": "3ddcb55e-300e-43a2-95c3-5a2a4f7b3fcc",
   "metadata": {},
   "source": [
    "## Prime Number"
   ]
  },
  {
   "cell_type": "code",
   "execution_count": 1,
   "id": "ec1b6de8-09c9-4205-b7f7-0284524b8a34",
   "metadata": {},
   "outputs": [
    {
     "name": "stdin",
     "output_type": "stream",
     "text": [
      "enter the number :  11\n"
     ]
    }
   ],
   "source": [
    "num = int(input(\"enter the number : \"))"
   ]
  },
  {
   "cell_type": "code",
   "execution_count": 2,
   "id": "78f32a82-bd8c-4654-9752-ec9314cfab42",
   "metadata": {},
   "outputs": [
    {
     "name": "stdout",
     "output_type": "stream",
     "text": [
      "11 is a prime number\n"
     ]
    }
   ],
   "source": [
    "if num > 1:\n",
    "    for i in range(2, (num//2)+1):\n",
    "        if (num % i) == 0:\n",
    "            print(num, \"is not a prime number\")\n",
    "            break\n",
    "    else:\n",
    "        print(num,\"is a prime number\")\n",
    "else :\n",
    "    print(num,\"is not a prime number\")\n",
    "    "
   ]
  },
  {
   "cell_type": "markdown",
   "id": "1bc2973f-aeee-408c-bb74-75cb9433db99",
   "metadata": {},
   "source": [
    "## Product of random number guessing"
   ]
  },
  {
   "cell_type": "code",
   "execution_count": 3,
   "id": "c098f2f9-c256-4810-a095-518a4ebea6f1",
   "metadata": {},
   "outputs": [],
   "source": [
    "import random"
   ]
  },
  {
   "cell_type": "code",
   "execution_count": 4,
   "id": "4badfc27-f6e8-45d2-8e47-b69c8f7876a2",
   "metadata": {},
   "outputs": [
    {
     "data": {
      "text/plain": [
       "(18, 48)"
      ]
     },
     "execution_count": 4,
     "metadata": {},
     "output_type": "execute_result"
    }
   ],
   "source": [
    "## generate the two numbers for the execution\n",
    "num_1 = random.randint(1,100)\n",
    "num_2 = random.randint(1,100)\n",
    "num_1,num_2"
   ]
  },
  {
   "cell_type": "code",
   "execution_count": 5,
   "id": "5eb806f5-e397-4985-9890-dd6f434c0a51",
   "metadata": {},
   "outputs": [
    {
     "data": {
      "text/plain": [
       "864"
      ]
     },
     "execution_count": 5,
     "metadata": {},
     "output_type": "execute_result"
    }
   ],
   "source": [
    "## we have to calculte product of the random numbers\n",
    "product = num_1 * num_2\n",
    "product"
   ]
  },
  {
   "cell_type": "code",
   "execution_count": 6,
   "id": "d0179d27-368c-4e70-9970-ec81d97c27ea",
   "metadata": {},
   "outputs": [
    {
     "name": "stdin",
     "output_type": "stream",
     "text": [
      "What is the product of 18 and 48?  345\n"
     ]
    }
   ],
   "source": [
    "## ask user for their guess\n",
    "guessing = int(input(\"What is the product of \" + str(num_1) + \" and \" + str(num_2) + \"? \"))"
   ]
  },
  {
   "cell_type": "code",
   "execution_count": 7,
   "id": "097027d1-17f1-4fc0-ad91-f480d89d94c1",
   "metadata": {},
   "outputs": [
    {
     "name": "stdout",
     "output_type": "stream",
     "text": [
      "Oops!, you are failed to guess the number\n"
     ]
    }
   ],
   "source": [
    "## now we have to ckeck whether the guessing of user is correct or not\n",
    "\n",
    "if guessing == product :\n",
    "    print(\"congrats!!, your guessing is correct\")\n",
    "else:\n",
    "    print(\"Oops!, you are failed to guess the number\")"
   ]
  },
  {
   "cell_type": "markdown",
   "id": "57525392-0680-44d9-b44a-ae6b72a52a61",
   "metadata": {},
   "source": [
    "## Squares of even/odd numbers"
   ]
  },
  {
   "cell_type": "code",
   "execution_count": 8,
   "id": "80a1bf51-1329-49c3-bd1d-51875eb3587e",
   "metadata": {},
   "outputs": [],
   "source": [
    "##the range between the number is given \n",
    "start_num = 100\n",
    "end_num = 200"
   ]
  },
  {
   "cell_type": "code",
   "execution_count": 9,
   "id": "1a9f70ec-1116-4919-ad9b-7ec1e2a6c186",
   "metadata": {},
   "outputs": [],
   "source": [
    "## in this we separate the odd and even values between the range.\n",
    "odd_numbers = []\n",
    "even_numbers = []\n",
    "\n",
    "for i in range(start_num, end_num+1):\n",
    "    if i % 2 == 0:\n",
    "        even_numbers.append(i)\n",
    "    else:\n",
    "        odd_numbers.append(i)"
   ]
  },
  {
   "cell_type": "code",
   "execution_count": 10,
   "id": "a1e6fbd6-e326-4ff8-8c78-20366faa4a6d",
   "metadata": {},
   "outputs": [
    {
     "data": {
      "text/plain": [
       "array([10201, 10609, 11025, 11449, 11881, 12321, 12769, 13225, 13689,\n",
       "       14161, 14641, 15129, 15625, 16129, 16641, 17161, 17689, 18225,\n",
       "       18769, 19321, 19881, 20449, 21025, 21609, 22201, 22801, 23409,\n",
       "       24025, 24649, 25281, 25921, 26569, 27225, 27889, 28561, 29241,\n",
       "       29929, 30625, 31329, 32041, 32761, 33489, 34225, 34969, 35721,\n",
       "       36481, 37249, 38025, 38809, 39601])"
      ]
     },
     "execution_count": 10,
     "metadata": {},
     "output_type": "execute_result"
    }
   ],
   "source": [
    "import numpy as np\n",
    "odd_num_squares = np.square(odd_numbers)\n",
    "odd_num_squares"
   ]
  },
  {
   "cell_type": "code",
   "execution_count": 11,
   "id": "b9f04a25-02aa-4bab-ace9-953396e74a46",
   "metadata": {},
   "outputs": [
    {
     "data": {
      "text/plain": [
       "array([10000, 10404, 10816, 11236, 11664, 12100, 12544, 12996, 13456,\n",
       "       13924, 14400, 14884, 15376, 15876, 16384, 16900, 17424, 17956,\n",
       "       18496, 19044, 19600, 20164, 20736, 21316, 21904, 22500, 23104,\n",
       "       23716, 24336, 24964, 25600, 26244, 26896, 27556, 28224, 28900,\n",
       "       29584, 30276, 30976, 31684, 32400, 33124, 33856, 34596, 35344,\n",
       "       36100, 36864, 37636, 38416, 39204, 40000])"
      ]
     },
     "execution_count": 11,
     "metadata": {},
     "output_type": "execute_result"
    }
   ],
   "source": [
    "even_num_squares = np.square(even_numbers)\n",
    "even_num_squares"
   ]
  },
  {
   "cell_type": "markdown",
   "id": "46b26872-5963-4af7-b59f-7fbda37148c1",
   "metadata": {},
   "source": [
    "## Word Counter"
   ]
  },
  {
   "cell_type": "code",
   "execution_count": 12,
   "id": "07ca3ab8-a572-4c6e-9d95-4bce19a9165a",
   "metadata": {},
   "outputs": [
    {
     "name": "stdout",
     "output_type": "stream",
     "text": [
      "{'this': 2, 'is': 1, 'a': 1, 'sample': 1, 'text.': 1, 'text': 1, 'will': 1, 'be': 1, 'used': 1, 'to': 1, 'demonstrate': 1, 'the': 1, 'word': 1, 'counter.': 1}\n"
     ]
    }
   ],
   "source": [
    "def count_word_occurrences(text):\n",
    "    \n",
    "    text = text.lower()\n",
    "\n",
    "  # Split the text into words using whitespace as delimiter\n",
    "    words = text.split()\n",
    "\n",
    "    word_counts = {}\n",
    "\n",
    "\n",
    "    for word in words:\n",
    "      if word in word_counts:\n",
    "        word_counts[word] += 1\n",
    "      else:\n",
    "        word_counts[word] = 1\n",
    "\n",
    "    return word_counts\n",
    "\n",
    "# Example text\n",
    "text = \"This is a sample text. This text will be used to demonstrate the word counter.\"\n",
    "word_counts = count_word_occurrences(text)\n",
    "print(word_counts)\n"
   ]
  },
  {
   "cell_type": "code",
   "execution_count": null,
   "id": "00ccc4ef-a56a-4a2b-91cd-5fe20b9fea37",
   "metadata": {},
   "outputs": [],
   "source": []
  }
 ],
 "metadata": {
  "kernelspec": {
   "display_name": "Python 3 (ipykernel)",
   "language": "python",
   "name": "python3"
  },
  "language_info": {
   "codemirror_mode": {
    "name": "ipython",
    "version": 3
   },
   "file_extension": ".py",
   "mimetype": "text/x-python",
   "name": "python",
   "nbconvert_exporter": "python",
   "pygments_lexer": "ipython3",
   "version": "3.11.7"
  }
 },
 "nbformat": 4,
 "nbformat_minor": 5
}

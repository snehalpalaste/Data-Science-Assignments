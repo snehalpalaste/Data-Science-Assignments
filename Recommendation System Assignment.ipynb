{
 "cells": [
  {
   "cell_type": "code",
   "execution_count": 18,
   "id": "b93e36df-8fe1-463c-b70b-7ae1fe55a821",
   "metadata": {},
   "outputs": [],
   "source": [
    "import pandas as pd \n",
    "import numpy as np\n",
    "import seaborn as sns \n",
    "import matplotlib.pyplot as plt\n",
    "from sklearn.metrics.pairwise import cosine_similarity\n",
    "from sklearn.feature_extraction.text import TfidfVectorizer"
   ]
  },
  {
   "cell_type": "code",
   "execution_count": 2,
   "id": "d65bb324-ed9b-4cce-82e9-df8b3b170af0",
   "metadata": {},
   "outputs": [
    {
     "data": {
      "text/html": [
       "<div>\n",
       "<style scoped>\n",
       "    .dataframe tbody tr th:only-of-type {\n",
       "        vertical-align: middle;\n",
       "    }\n",
       "\n",
       "    .dataframe tbody tr th {\n",
       "        vertical-align: top;\n",
       "    }\n",
       "\n",
       "    .dataframe thead th {\n",
       "        text-align: right;\n",
       "    }\n",
       "</style>\n",
       "<table border=\"1\" class=\"dataframe\">\n",
       "  <thead>\n",
       "    <tr style=\"text-align: right;\">\n",
       "      <th></th>\n",
       "      <th>anime_id</th>\n",
       "      <th>name</th>\n",
       "      <th>genre</th>\n",
       "      <th>type</th>\n",
       "      <th>episodes</th>\n",
       "      <th>rating</th>\n",
       "      <th>members</th>\n",
       "    </tr>\n",
       "  </thead>\n",
       "  <tbody>\n",
       "    <tr>\n",
       "      <th>0</th>\n",
       "      <td>32281</td>\n",
       "      <td>Kimi no Na wa.</td>\n",
       "      <td>Drama, Romance, School, Supernatural</td>\n",
       "      <td>Movie</td>\n",
       "      <td>1</td>\n",
       "      <td>9.37</td>\n",
       "      <td>200630</td>\n",
       "    </tr>\n",
       "    <tr>\n",
       "      <th>1</th>\n",
       "      <td>5114</td>\n",
       "      <td>Fullmetal Alchemist: Brotherhood</td>\n",
       "      <td>Action, Adventure, Drama, Fantasy, Magic, Mili...</td>\n",
       "      <td>TV</td>\n",
       "      <td>64</td>\n",
       "      <td>9.26</td>\n",
       "      <td>793665</td>\n",
       "    </tr>\n",
       "    <tr>\n",
       "      <th>2</th>\n",
       "      <td>28977</td>\n",
       "      <td>Gintama°</td>\n",
       "      <td>Action, Comedy, Historical, Parody, Samurai, S...</td>\n",
       "      <td>TV</td>\n",
       "      <td>51</td>\n",
       "      <td>9.25</td>\n",
       "      <td>114262</td>\n",
       "    </tr>\n",
       "    <tr>\n",
       "      <th>3</th>\n",
       "      <td>9253</td>\n",
       "      <td>Steins;Gate</td>\n",
       "      <td>Sci-Fi, Thriller</td>\n",
       "      <td>TV</td>\n",
       "      <td>24</td>\n",
       "      <td>9.17</td>\n",
       "      <td>673572</td>\n",
       "    </tr>\n",
       "    <tr>\n",
       "      <th>4</th>\n",
       "      <td>9969</td>\n",
       "      <td>Gintama&amp;#039;</td>\n",
       "      <td>Action, Comedy, Historical, Parody, Samurai, S...</td>\n",
       "      <td>TV</td>\n",
       "      <td>51</td>\n",
       "      <td>9.16</td>\n",
       "      <td>151266</td>\n",
       "    </tr>\n",
       "  </tbody>\n",
       "</table>\n",
       "</div>"
      ],
      "text/plain": [
       "   anime_id                              name  \\\n",
       "0     32281                    Kimi no Na wa.   \n",
       "1      5114  Fullmetal Alchemist: Brotherhood   \n",
       "2     28977                          Gintama°   \n",
       "3      9253                       Steins;Gate   \n",
       "4      9969                     Gintama&#039;   \n",
       "\n",
       "                                               genre   type episodes  rating  \\\n",
       "0               Drama, Romance, School, Supernatural  Movie        1    9.37   \n",
       "1  Action, Adventure, Drama, Fantasy, Magic, Mili...     TV       64    9.26   \n",
       "2  Action, Comedy, Historical, Parody, Samurai, S...     TV       51    9.25   \n",
       "3                                   Sci-Fi, Thriller     TV       24    9.17   \n",
       "4  Action, Comedy, Historical, Parody, Samurai, S...     TV       51    9.16   \n",
       "\n",
       "   members  \n",
       "0   200630  \n",
       "1   793665  \n",
       "2   114262  \n",
       "3   673572  \n",
       "4   151266  "
      ]
     },
     "execution_count": 2,
     "metadata": {},
     "output_type": "execute_result"
    }
   ],
   "source": [
    "df = pd.read_csv('anime.csv')\n",
    "df.head()"
   ]
  },
  {
   "cell_type": "code",
   "execution_count": 3,
   "id": "60f34c96-47e1-4d9d-bb07-d1ef0302aeac",
   "metadata": {},
   "outputs": [],
   "source": [
    "name = df['name']"
   ]
  },
  {
   "cell_type": "code",
   "execution_count": 4,
   "id": "8de0e097-2a15-46c5-935b-663e1bbee24f",
   "metadata": {},
   "outputs": [
    {
     "name": "stdout",
     "output_type": "stream",
     "text": [
      "<class 'pandas.core.frame.DataFrame'>\n",
      "RangeIndex: 12294 entries, 0 to 12293\n",
      "Data columns (total 7 columns):\n",
      " #   Column    Non-Null Count  Dtype  \n",
      "---  ------    --------------  -----  \n",
      " 0   anime_id  12294 non-null  int64  \n",
      " 1   name      12294 non-null  object \n",
      " 2   genre     12232 non-null  object \n",
      " 3   type      12269 non-null  object \n",
      " 4   episodes  12294 non-null  object \n",
      " 5   rating    12064 non-null  float64\n",
      " 6   members   12294 non-null  int64  \n",
      "dtypes: float64(1), int64(2), object(4)\n",
      "memory usage: 672.5+ KB\n"
     ]
    }
   ],
   "source": [
    "df.info()"
   ]
  },
  {
   "cell_type": "code",
   "execution_count": 5,
   "id": "f0f9c970-4265-4275-a77c-30f62307b4ba",
   "metadata": {},
   "outputs": [
    {
     "data": {
      "text/html": [
       "<div>\n",
       "<style scoped>\n",
       "    .dataframe tbody tr th:only-of-type {\n",
       "        vertical-align: middle;\n",
       "    }\n",
       "\n",
       "    .dataframe tbody tr th {\n",
       "        vertical-align: top;\n",
       "    }\n",
       "\n",
       "    .dataframe thead th {\n",
       "        text-align: right;\n",
       "    }\n",
       "</style>\n",
       "<table border=\"1\" class=\"dataframe\">\n",
       "  <thead>\n",
       "    <tr style=\"text-align: right;\">\n",
       "      <th></th>\n",
       "      <th>anime_id</th>\n",
       "      <th>name</th>\n",
       "      <th>genre</th>\n",
       "      <th>type</th>\n",
       "      <th>episodes</th>\n",
       "      <th>rating</th>\n",
       "      <th>members</th>\n",
       "    </tr>\n",
       "  </thead>\n",
       "  <tbody>\n",
       "  </tbody>\n",
       "</table>\n",
       "</div>"
      ],
      "text/plain": [
       "Empty DataFrame\n",
       "Columns: [anime_id, name, genre, type, episodes, rating, members]\n",
       "Index: []"
      ]
     },
     "execution_count": 5,
     "metadata": {},
     "output_type": "execute_result"
    }
   ],
   "source": [
    "## checking duplicated values \n",
    "df[df.duplicated()]"
   ]
  },
  {
   "cell_type": "code",
   "execution_count": 6,
   "id": "cd80c0a3-7371-4411-829a-9a6b14f6e8e2",
   "metadata": {},
   "outputs": [
    {
     "data": {
      "text/plain": [
       "anime_id      0\n",
       "name          0\n",
       "genre        62\n",
       "type         25\n",
       "episodes      0\n",
       "rating      230\n",
       "members       0\n",
       "dtype: int64"
      ]
     },
     "execution_count": 6,
     "metadata": {},
     "output_type": "execute_result"
    }
   ],
   "source": [
    "## checking null values \n",
    "df.isna().sum()"
   ]
  },
  {
   "cell_type": "code",
   "execution_count": 8,
   "id": "8e319e93-a480-41dd-8f54-6ca43e62c074",
   "metadata": {},
   "outputs": [],
   "source": [
    "## for genre column we cant fill any value using mode imputation so instead of this we fill with empty string\n",
    "df['genre'] = df['genre'].fillna('')"
   ]
  },
  {
   "cell_type": "code",
   "execution_count": 11,
   "id": "7bb78eac-7ced-476e-b206-3092ea426c6b",
   "metadata": {},
   "outputs": [],
   "source": [
    "## Convert 'rating' to a numeric value and fill missing ratings with the mean rating\n",
    "df['rating'] = pd.to_numeric(df['rating'], errors='coerce').fillna(df['rating'].mean())"
   ]
  },
  {
   "cell_type": "code",
   "execution_count": 14,
   "id": "83fa97bb-9500-4447-883d-b1bfeb3789d0",
   "metadata": {},
   "outputs": [],
   "source": [
    "# Create a TF-IDF Vectorizer to convert genres into a matrix of TF-IDF features\n",
    "from sklearn.feature_extraction.text import TfidfVectorizer\n",
    "tfidf = TfidfVectorizer(stop_words='english')"
   ]
  },
  {
   "cell_type": "code",
   "execution_count": 15,
   "id": "750d8af4-44e5-4a8d-a594-a95f78aa45f2",
   "metadata": {},
   "outputs": [],
   "source": [
    "# Construct the TF-IDF matrix by fitting and transforming the data\n",
    "tfidf_matrix = tfidf.fit_transform(df['genre'])"
   ]
  },
  {
   "cell_type": "code",
   "execution_count": 19,
   "id": "43a4f18a-1976-4ba3-92c1-6b575c0910c2",
   "metadata": {},
   "outputs": [],
   "source": [
    "# Compute the cosine similarity matrix based on genres\n",
    "genre_similarity = cosine_similarity(tfidf_matrix, tfidf_matrix)"
   ]
  },
  {
   "cell_type": "code",
   "execution_count": 22,
   "id": "ff8d3356-3df5-4b5c-84cd-20312c3943d7",
   "metadata": {},
   "outputs": [],
   "source": [
    "def get_top_n_similar_anime(anime_id, df, genre_similarity, n=10):\n",
    "    # Find the index of the anime in the DataFrame\n",
    "    anime_idx = df[df['anime_id'] == anime_id].index[0]\n",
    "    \n",
    "    # Get the similarity scores for all anime\n",
    "    similarity_scores = list(enumerate(genre_similarity[anime_idx]))\n",
    "    \n",
    "    # Sort the anime based on similarity scores in descending order\n",
    "    similarity_scores = sorted(similarity_scores, key=lambda x: x[1], reverse=True)\n",
    "    \n",
    "    # Get the indices of the top N most similar anime\n",
    "    top_n_indices = [i[0] for i in similarity_scores[1:n+1]]\n",
    "    \n",
    "    # Get the names and genres of the top N similar anime\n",
    "    top_n_anime = df.iloc[top_n_indices][['anime_id', 'name', 'genre', 'rating']]\n",
    "    \n",
    "    return top_n_anime\n"
   ]
  },
  {
   "cell_type": "code",
   "execution_count": 23,
   "id": "f7ed98e3-a48d-4b83-80a2-914d02a2b96c",
   "metadata": {},
   "outputs": [
    {
     "name": "stdout",
     "output_type": "stream",
     "text": [
      "Top 10 anime similar to anime_id 32281:\n",
      "      anime_id                                   name  \\\n",
      "5805       547            Wind: A Breath of Heart OVA   \n",
      "6394       546           Wind: A Breath of Heart (TV)   \n",
      "1111     14669  Aura: Maryuuin Kouga Saigo no Tatakai   \n",
      "1201     10067         Angel Beats!: Another Epilogue   \n",
      "1494     20903                               Harmonie   \n",
      "878       2787          Shakugan no Shana II (Second)   \n",
      "986        355                      Shakugan no Shana   \n",
      "1604      6572                    Shakugan no Shana S   \n",
      "1959       713                              Air Movie   \n",
      "4514      2105                           Touka Gettan   \n",
      "\n",
      "                                                  genre  rating  \n",
      "5805               Drama, Romance, School, Supernatural    6.35  \n",
      "6394               Drama, Romance, School, Supernatural    6.14  \n",
      "1111       Comedy, Drama, Romance, School, Supernatural    7.67  \n",
      "1201                        Drama, School, Supernatural    7.63  \n",
      "1494                        Drama, School, Supernatural    7.52  \n",
      "878   Action, Drama, Fantasy, Romance, School, Super...    7.79  \n",
      "986   Action, Drama, Fantasy, Romance, School, Super...    7.74  \n",
      "1604  Action, Drama, Fantasy, Romance, School, Super...    7.49  \n",
      "1959                       Drama, Romance, Supernatural    7.39  \n",
      "4514                       Drama, Romance, Supernatural    6.71  \n"
     ]
    }
   ],
   "source": [
    "# Example usage\n",
    "anime_id = 32281  # Example anime_id from your dataset\n",
    "top_n_similar_anime = get_top_n_similar_anime(anime_id, df, genre_similarity, n=10)\n",
    "print(f'Top 10 anime similar to anime_id {anime_id}:')\n",
    "print(top_n_similar_anime)"
   ]
  },
  {
   "cell_type": "code",
   "execution_count": null,
   "id": "44e3b799-29db-49f7-a24b-7cfb0dbf42fd",
   "metadata": {},
   "outputs": [],
   "source": []
  }
 ],
 "metadata": {
  "kernelspec": {
   "display_name": "Python 3 (ipykernel)",
   "language": "python",
   "name": "python3"
  },
  "language_info": {
   "codemirror_mode": {
    "name": "ipython",
    "version": 3
   },
   "file_extension": ".py",
   "mimetype": "text/x-python",
   "name": "python",
   "nbconvert_exporter": "python",
   "pygments_lexer": "ipython3",
   "version": "3.11.9"
  }
 },
 "nbformat": 4,
 "nbformat_minor": 5
}

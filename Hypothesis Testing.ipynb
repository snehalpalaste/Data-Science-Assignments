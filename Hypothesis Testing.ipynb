{
 "cells": [
  {
   "cell_type": "code",
   "execution_count": 1,
   "id": "243af9dd-bbbf-4a18-9bfa-b62a77a5460e",
   "metadata": {},
   "outputs": [],
   "source": [
    "import numpy as np\n",
    "import scipy.stats as stat"
   ]
  },
  {
   "cell_type": "raw",
   "id": "383eae90-ada3-47b4-9f26-1d617f0d742f",
   "metadata": {},
   "source": [
    "Satisfaction\tSmart Thermostat\tSmart Light  \tTotal\n",
    "Very Satisfied\t      50\t            70\t         120\n",
    "Satisfied\t          80\t            100\t         180\n",
    "Neutral            \t  60\t            90\t         150\n",
    "Unsatisfied           30\t            50\t         80\n",
    "Very Unsatisfied\t  20\t            50\t         70\n",
    "Total\t              240\t            360\t         600\n",
    "\n",
    "## according to this table \n",
    "NUll Hypotheis : there is no a significant association between the type of device purchased and the customer satisfaction level.\n",
    "\n",
    "Alternate Hypothesis : there is a significant association between the type of device purchased and the customer satisfaction level.\n"
   ]
  },
  {
   "cell_type": "code",
   "execution_count": 2,
   "id": "8ce6e3cc-8aae-4ff4-9ce7-5111f5052fa8",
   "metadata": {},
   "outputs": [],
   "source": [
    "observed_data = np.array([\n",
    "    [50, 70],  # Very Satisfied\n",
    "    [80, 100],  # Satisfied\n",
    "    [60, 90],   # Neutral\n",
    "    [30, 50],   # Unsatisfied\n",
    "    [20, 50]    # Very Unsatisfied\n",
    "])\n"
   ]
  },
  {
   "cell_type": "code",
   "execution_count": 3,
   "id": "55136715-fe40-418a-8853-d36d85ea9a24",
   "metadata": {},
   "outputs": [],
   "source": [
    "## CHI Square goodness of fit \n",
    "chi_square_stat, p_value,dof,expected_freq = stat.chi2_contingency(observed_data)"
   ]
  },
  {
   "cell_type": "code",
   "execution_count": 4,
   "id": "8ebe7fca-2b17-4f30-a46e-2fc5e8d1958c",
   "metadata": {},
   "outputs": [
    {
     "data": {
      "text/plain": [
       "0.22784371130697179"
      ]
     },
     "execution_count": 4,
     "metadata": {},
     "output_type": "execute_result"
    }
   ],
   "source": [
    "p_value"
   ]
  },
  {
   "cell_type": "code",
   "execution_count": 6,
   "id": "e64d3ecd-2d2d-45ed-86dc-5db9a9b1b90f",
   "metadata": {},
   "outputs": [
    {
     "data": {
      "text/plain": [
       "5.638227513227513"
      ]
     },
     "execution_count": 6,
     "metadata": {},
     "output_type": "execute_result"
    }
   ],
   "source": [
    "chi_square_stat"
   ]
  },
  {
   "cell_type": "code",
   "execution_count": 7,
   "id": "a0e09004-07c2-47fd-9f36-403be46f966a",
   "metadata": {},
   "outputs": [],
   "source": [
    "## significance value \n",
    "alpha = 0.5\n",
    "dof = 1 - alpha"
   ]
  },
  {
   "cell_type": "code",
   "execution_count": 8,
   "id": "3f8ae3bc-56b1-49c5-9f28-a17ca65760a6",
   "metadata": {},
   "outputs": [
    {
     "data": {
      "text/plain": [
       "0.0873476047057468"
      ]
     },
     "execution_count": 8,
     "metadata": {},
     "output_type": "execute_result"
    }
   ],
   "source": [
    "## critical value calculation\n",
    "critical_value = stat.chi2.ppf(1-alpha, dof)\n",
    "critical_value"
   ]
  },
  {
   "cell_type": "code",
   "execution_count": 9,
   "id": "d5192f26-a7d0-4539-a1bb-dd0e477f1ebe",
   "metadata": {},
   "outputs": [
    {
     "name": "stdout",
     "output_type": "stream",
     "text": [
      "we reject the null hypothesis\n"
     ]
    }
   ],
   "source": [
    "if chi_square_stat > critical_value :\n",
    "    print(\"we reject the null hypothesis\")\n",
    "else :\n",
    "    print(\"we retain the null hypothesis\")"
   ]
  },
  {
   "cell_type": "code",
   "execution_count": null,
   "id": "93e2e986-588a-4d9b-86db-c405eebeab19",
   "metadata": {},
   "outputs": [],
   "source": []
  },
  {
   "cell_type": "code",
   "execution_count": null,
   "id": "711a77f9-0ca0-4f88-9243-b1ae24cb6102",
   "metadata": {},
   "outputs": [],
   "source": []
  }
 ],
 "metadata": {
  "kernelspec": {
   "display_name": "Python 3 (ipykernel)",
   "language": "python",
   "name": "python3"
  },
  "language_info": {
   "codemirror_mode": {
    "name": "ipython",
    "version": 3
   },
   "file_extension": ".py",
   "mimetype": "text/x-python",
   "name": "python",
   "nbconvert_exporter": "python",
   "pygments_lexer": "ipython3",
   "version": "3.11.7"
  }
 },
 "nbformat": 4,
 "nbformat_minor": 5
}
